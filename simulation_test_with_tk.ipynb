{
 "cells": [
  {
   "cell_type": "code",
   "execution_count": null,
   "id": "167744b6",
   "metadata": {},
   "outputs": [],
   "source": [
    "from tkinter import *   #type: ignore\n",
    "\n",
    "\n",
    "root = Tk()\n",
    "canvas_1 = Canvas(root)\n",
    "canvas_1.pack(fill=BOTH, expand=1)\n",
    "\n",
    "canvas_1.create_line(50, 0, 200, 0)\n",
    "canvas_1.create_line(50, 0, 50, 100)\n",
    "canvas_1.create_line(0, 100, 50, 100)\n",
    "canvas_1.create_line(0, 100, 0, 250)\n",
    "canvas_1.create_line(0, 250, 150, 250)\n",
    "canvas_1.create_line(150, 250, 150, 200)\n",
    "canvas_1.create_line(50, 200, 100, 200)\n",
    "canvas_1.create_line(150, 0, 150, 100)\n",
    "canvas_1.create_line(100, 50, 150, 50)\n",
    "canvas_1.create_line(200, 0, 200, 50)\n",
    "canvas_1.create_line(100, 100, 100, 150)\n",
    "canvas_1.create_line(100, 150, 200, 150)\n",
    "canvas_1.create_line(200, 100, 200, 200)\n",
    "\n",
    "car1 = canvas_1.create_rectangle(220, 58.5, 261, 91.5, fill=\"red\")\n",
    "\n",
    "def test(event):\n",
    "    print(True)\n",
    "\n",
    "root.bind(\"<Right>\", test)\n",
    "\n",
    "root.mainloop()"
   ]
  },
  {
   "cell_type": "code",
   "execution_count": null,
   "id": "9276758a",
   "metadata": {},
   "outputs": [],
   "source": []
  }
 ],
 "metadata": {
  "kernelspec": {
   "display_name": "Python 3",
   "language": "python",
   "name": "python3"
  },
  "language_info": {
   "codemirror_mode": {
    "name": "ipython",
    "version": 3
   },
   "file_extension": ".py",
   "mimetype": "text/x-python",
   "name": "python",
   "nbconvert_exporter": "python",
   "pygments_lexer": "ipython3",
   "version": "3.13.2"
  }
 },
 "nbformat": 4,
 "nbformat_minor": 5
}
